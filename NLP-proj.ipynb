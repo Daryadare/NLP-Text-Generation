{
 "cells": [
  {
   "cell_type": "code",
   "execution_count": 11,
   "id": "ecdef6cf",
   "metadata": {},
   "outputs": [],
   "source": [
    "import pandas as pd\n",
    "import numpy as np\n",
    "\n",
    "import re\n",
    "import torch\n",
    "import faiss\n",
    "\n",
    "from datasets import load_dataset, Dataset\n",
    "from transformers import AutoTokenizer, AutoModel, AutoModelForSeq2SeqLM\n",
    "\n",
    "from bleurt import score"
   ]
  },
  {
   "cell_type": "code",
   "execution_count": 2,
   "id": "d7505461",
   "metadata": {},
   "outputs": [
    {
     "data": {
      "text/html": [
       "<div>\n",
       "<style scoped>\n",
       "    .dataframe tbody tr th:only-of-type {\n",
       "        vertical-align: middle;\n",
       "    }\n",
       "\n",
       "    .dataframe tbody tr th {\n",
       "        vertical-align: top;\n",
       "    }\n",
       "\n",
       "    .dataframe thead th {\n",
       "        text-align: right;\n",
       "    }\n",
       "</style>\n",
       "<table border=\"1\" class=\"dataframe\">\n",
       "  <thead>\n",
       "    <tr style=\"text-align: right;\">\n",
       "      <th></th>\n",
       "      <th>text</th>\n",
       "    </tr>\n",
       "  </thead>\n",
       "  <tbody>\n",
       "    <tr>\n",
       "      <th>0</th>\n",
       "      <td>\\nКапитан сборной Аргентины Лионель Месси сооб...</td>\n",
       "    </tr>\n",
       "    <tr>\n",
       "      <th>1</th>\n",
       "      <td>\\nЛидер сборной Аргентины Лионель Месси вряд л...</td>\n",
       "    </tr>\n",
       "    <tr>\n",
       "      <th>2</th>\n",
       "      <td>\\nINTERFAX.RU - Аргентинский футболист Лионель...</td>\n",
       "    </tr>\n",
       "    <tr>\n",
       "      <th>3</th>\n",
       "      <td>\\nЛионель Месси не планирует участвовать в чем...</td>\n",
       "    </tr>\n",
       "    <tr>\n",
       "      <th>4</th>\n",
       "      <td>\\nКапитан сборной Аргентины по футболу Лионель...</td>\n",
       "    </tr>\n",
       "    <tr>\n",
       "      <th>...</th>\n",
       "      <td>...</td>\n",
       "    </tr>\n",
       "    <tr>\n",
       "      <th>95</th>\n",
       "      <td>\\nТинькофф Банк объявил о запуске Центрального...</td>\n",
       "    </tr>\n",
       "    <tr>\n",
       "      <th>96</th>\n",
       "      <td>\\n«Тинькофф» запускает частный университет со ...</td>\n",
       "    </tr>\n",
       "    <tr>\n",
       "      <th>97</th>\n",
       "      <td>\\n14 июня 2023 года «Тинькофф» объявил о запус...</td>\n",
       "    </tr>\n",
       "    <tr>\n",
       "      <th>98</th>\n",
       "      <td>\\nТинькофф банк запустит частный университет -...</td>\n",
       "    </tr>\n",
       "    <tr>\n",
       "      <th>99</th>\n",
       "      <td>\\n«Тинькофф банк» зарегистрировал собственный ...</td>\n",
       "    </tr>\n",
       "  </tbody>\n",
       "</table>\n",
       "<p>100 rows × 1 columns</p>\n",
       "</div>"
      ],
      "text/plain": [
       "                                                 text\n",
       "0   \\nКапитан сборной Аргентины Лионель Месси сооб...\n",
       "1   \\nЛидер сборной Аргентины Лионель Месси вряд л...\n",
       "2   \\nINTERFAX.RU - Аргентинский футболист Лионель...\n",
       "3   \\nЛионель Месси не планирует участвовать в чем...\n",
       "4   \\nКапитан сборной Аргентины по футболу Лионель...\n",
       "..                                                ...\n",
       "95  \\nТинькофф Банк объявил о запуске Центрального...\n",
       "96  \\n«Тинькофф» запускает частный университет со ...\n",
       "97  \\n14 июня 2023 года «Тинькофф» объявил о запус...\n",
       "98  \\nТинькофф банк запустит частный университет -...\n",
       "99  \\n«Тинькофф банк» зарегистрировал собственный ...\n",
       "\n",
       "[100 rows x 1 columns]"
      ]
     },
     "execution_count": 2,
     "metadata": {},
     "output_type": "execute_result"
    }
   ],
   "source": [
    "df = pd.read_csv('./df_data.csv')\n",
    "df"
   ]
  },
  {
   "cell_type": "code",
   "execution_count": 3,
   "id": "46047d9c",
   "metadata": {},
   "outputs": [],
   "source": [
    "# Задаем путь к предобученной модели\n",
    "\n",
    "model_ckpt = \"papluca/xlm-roberta-base-language-detection\""
   ]
  },
  {
   "cell_type": "code",
   "execution_count": 4,
   "id": "717c8223",
   "metadata": {},
   "outputs": [
    {
     "name": "stderr",
     "output_type": "stream",
     "text": [
      "Some weights of the model checkpoint at papluca/xlm-roberta-base-language-detection were not used when initializing XLMRobertaModel: ['classifier.out_proj.weight', 'classifier.dense.bias', 'classifier.out_proj.bias', 'classifier.dense.weight']\n",
      "- This IS expected if you are initializing XLMRobertaModel from the checkpoint of a model trained on another task or with another architecture (e.g. initializing a BertForSequenceClassification model from a BertForPreTraining model).\n",
      "- This IS NOT expected if you are initializing XLMRobertaModel from the checkpoint of a model that you expect to be exactly identical (initializing a BertForSequenceClassification model from a BertForSequenceClassification model).\n",
      "Some weights of XLMRobertaModel were not initialized from the model checkpoint at papluca/xlm-roberta-base-language-detection and are newly initialized: ['roberta.pooler.dense.bias', 'roberta.pooler.dense.weight']\n",
      "You should probably TRAIN this model on a down-stream task to be able to use it for predictions and inference.\n"
     ]
    }
   ],
   "source": [
    "# Инициализируем токенизатор и модель, а также функции, которые возвращают эмбеддинги\n",
    "\n",
    "tokenizer = AutoTokenizer.from_pretrained(model_ckpt)\n",
    "model = AutoModel.from_pretrained(model_ckpt)\n",
    "\n",
    "if tokenizer.pad_token is None:\n",
    "    tokenizer.add_special_tokens({'pad_token': '[PAD]'})\n",
    "    \n",
    "device = 'cuda' if torch.cuda.is_available() else 'cpu'\n",
    "model.to(device)\n",
    "print(end='')"
   ]
  },
  {
   "cell_type": "code",
   "execution_count": 5,
   "id": "e0e2c053",
   "metadata": {
    "scrolled": false
   },
   "outputs": [
    {
     "data": {
      "application/vnd.jupyter.widget-view+json": {
       "model_id": "",
       "version_major": 2,
       "version_minor": 0
      },
      "text/plain": [
       "Map:   0%|          | 0/100 [00:00<?, ? examples/s]"
      ]
     },
     "metadata": {},
     "output_type": "display_data"
    },
    {
     "data": {
      "application/vnd.jupyter.widget-view+json": {
       "model_id": "0cc08fef5524429f9edcd3b5eb568415",
       "version_major": 2,
       "version_minor": 0
      },
      "text/plain": [
       "  0%|          | 0/1 [00:00<?, ?it/s]"
      ]
     },
     "metadata": {},
     "output_type": "display_data"
    },
    {
     "data": {
      "text/plain": [
       "Dataset({\n",
       "    features: ['text', 'text_embeddings'],\n",
       "    num_rows: 100\n",
       "})"
      ]
     },
     "execution_count": 5,
     "metadata": {},
     "output_type": "execute_result"
    }
   ],
   "source": [
    "def cls_pooling(model_output):\n",
    "    return model_output.last_hidden_state[:, 0]\n",
    "\n",
    "\n",
    "def get_embeddings(text_list):\n",
    "    encoded_input = tokenizer(text_list, padding=True, \n",
    "                              truncation=True, return_tensors='pt')\n",
    "    encoded_input = {k: v.to(device) for k, v in encoded_input.items()}\n",
    "    \n",
    "    with torch.no_grad():\n",
    "        model_output = model(**encoded_input)\n",
    "    \n",
    "    return cls_pooling(model_output)\n",
    "\n",
    "\n",
    "# Посчитаем эмбединги в специальной структуре\n",
    "# Определять 'близость' запроса и темы из датасета будем по эмбеддингам тэгов \n",
    "\n",
    "ds = Dataset.from_pandas(df)\n",
    "embeddings_dataset = ds.map(\n",
    "    lambda x: {'text_embeddings': get_embeddings(x['text']).detach().cpu().numpy()[0]})\n",
    "embeddings_dataset.add_faiss_index(column='text_embeddings')"
   ]
  },
  {
   "cell_type": "code",
   "execution_count": 6,
   "id": "80cab1dc",
   "metadata": {},
   "outputs": [],
   "source": [
    "# Создадим функцию, которая вернет 'близкие' 10 текстов\n",
    "\n",
    "def get_sequences(question):\n",
    "    question_embedding = get_embeddings([question]).cpu().detach().numpy()\n",
    "    scores, samples = embeddings_dataset.get_nearest_examples(\n",
    "        'text_embeddings', question_embedding, k=10)\n",
    "    return samples['text']"
   ]
  },
  {
   "cell_type": "code",
   "execution_count": 7,
   "id": "7327d0c2",
   "metadata": {
    "scrolled": true
   },
   "outputs": [],
   "source": [
    "# Зададим вопрос и получим упорядоченный список от наиболее вероятных к наименее\n",
    "\n",
    "question = 'университет тинькофф'\n",
    "base_articles = get_sequences(question)"
   ]
  },
  {
   "cell_type": "code",
   "execution_count": 9,
   "id": "1c90bfa7",
   "metadata": {
    "scrolled": false
   },
   "outputs": [],
   "source": [
    "tokenizer = AutoTokenizer.from_pretrained(\"csebuetnlp/mT5_multilingual_XLSum\", use_fast=False)\n",
    "\n",
    "model = AutoModelForSeq2SeqLM.from_pretrained(\"csebuetnlp/mT5_multilingual_XLSum\")"
   ]
  },
  {
   "cell_type": "code",
   "execution_count": 10,
   "id": "92cb728c",
   "metadata": {},
   "outputs": [
    {
     "name": "stdout",
     "output_type": "stream",
     "text": [
      "Российская компания «Тинькофф» запускает частный университет со специализацией на математике и компьютерных науках. Программа обучения стартует в сентябре 2024 года, а магистерская программа «Академия Data Science» начнется в июне 2023 года, сообщает корреспондент Русской службы Би-би-си Ольга Яресько. Это уже вторая часть проекта компании, которая будет работать в России в течение нескольких лет. Что будет с программой обучения.   . . В bbc.co.uk ..  Эти и інші - в bbc .com  , . BBC News  ( bbcrussian.com. ) . \"Тинькоff , \"Тинкофф\", а уже в этом году, когда уже можно будет понять, как будет развиваться этот университет, и почему в России не хватает студентов, которые будут участвовать в программе обучения в ближайшие годы и какие будут новые образовательные программы для студентов в следующем году, рассказывает корреспондент ВВС Украина , что будет на пути к этому пути? bbcuzbek.com рассказывает о том, как будут развиваться эти и другие сферы обучения, о которых рассказывает Русская служба Би-Би-Си , в том числе и в России, где будет обучение и на каких условиях будут работать российские студенты, которым будет заниматься предпринимательство и что может быть связано с этим опытом? Вот уже несколько дней, кто будет изучать образовательную программу и зачем будет платить за обучение в России? - об этом сообщили в пресс-службе компании. Вот несколько самых интересных научных новостей о программе компании и бизнесе в российской экономике, которую будет проводить компания, пытаясь получить возможность получить диплом государственного образца в 2024 году, чтобы повысить эффективность образовательной системы и не только в вузах, но именно - о перспективах российского университета, который начнет выпускать в Москве и Санкт-Петербурге, куда они начнут работать уже через несколько лет, сколько будет стоить для них и чем будет учиться в России. Чем заняты студенты - это и самые перспективные и интересные новости о будущих студентах и финансовых возможностях и перспективах, если они не будут заняты в этой сфере, как выяснил корреспондент BBC Capital , посвященные этому вопросу, может стать одним из самых популярных в мире. bbc Русской православной церкви, считает корреспондент Би-си , какие перспективы имеет российская компания, которой уже занимаются образовательными программами и программами, которыми будут заниматься студенты в одной из крупнейших российских университетов, которых ожидается уже сейчас, - чтобы получить деньги в образовательных программах, оказались в одном из них, например, в Петербурге , некоторые из которых, по ее словам, будет запущена новая программа обучения .\n"
     ]
    }
   ],
   "source": [
    "WHITESPACE_HANDLER = lambda k: re.sub('\\s+', ' ', re.sub('\\n+', ' ', k.strip()))\n",
    "\n",
    "\n",
    "input_ids = tokenizer(\n",
    "    [WHITESPACE_HANDLER(el) for el in base_articles],\n",
    "    return_tensors=\"pt\",\n",
    "    padding=\"max_length\",\n",
    "    truncation=True,\n",
    "    max_length=1024\n",
    ")[\"input_ids\"]\n",
    "\n",
    "output_ids = model.generate(\n",
    "    input_ids=input_ids,\n",
    "    min_length=700,\n",
    "    no_repeat_ngram_size=3,\n",
    "    num_beams=4,\n",
    "    max_new_tokens=900\n",
    ")[0]\n",
    "\n",
    "summary = tokenizer.decode(\n",
    "    output_ids,\n",
    "    skip_special_tokens=True,\n",
    "    clean_up_tokenization_spaces=False\n",
    ")\n",
    "\n",
    "print(summary)"
   ]
  },
  {
   "cell_type": "code",
   "execution_count": 26,
   "id": "3309775b",
   "metadata": {},
   "outputs": [
    {
     "name": "stdout",
     "output_type": "stream",
     "text": [
      "INFO:tensorflow:Reading checkpoint ./bleurt/bleurt/test_checkpoint.\n",
      "INFO:tensorflow:Config file found, reading.\n",
      "INFO:tensorflow:Will load checkpoint dbleurt_tiny\n",
      "INFO:tensorflow:Loads full paths and checks that files exists.\n",
      "INFO:tensorflow:... name:dbleurt_tiny\n",
      "INFO:tensorflow:... vocab_file:vocab.txt\n",
      "INFO:tensorflow:... bert_config_file:bert_config.json\n",
      "INFO:tensorflow:... do_lower_case:True\n",
      "INFO:tensorflow:... max_seq_length:512\n",
      "INFO:tensorflow:Creating BLEURT scorer.\n",
      "INFO:tensorflow:Creating WordPiece tokenizer.\n",
      "INFO:tensorflow:WordPiece tokenizer instantiated.\n",
      "INFO:tensorflow:Creating Eager Mode predictor.\n",
      "INFO:tensorflow:Loading model.\n",
      "INFO:tensorflow:BLEURT initialized.\n",
      "[0.012895867228507996]\n"
     ]
    }
   ],
   "source": [
    "checkpoint = \"./bleurt/bleurt/test_checkpoint\"\n",
    "references = ['''\\n«Тинькофф» запускает частный университет со специализацией на математике и компьютерных науках\\n\\n«Тинькофф» запускает «Центральный университет». Это первый в России частный университет, который основан на модели обучения STEM (Science, Technology, Engineering, Mathematics), которая объединяет естественные и инженерные предметы в рамках единой системы. На первом этапе программа обучения включает следующие дисциплины: программная инженерия; компьютерная безопасность; бизнес-информатика; прикладная математика; анализ данных и искусственный интеллект; экономика и анализ данных; маркетинг и бизнес-аналитика; продакт-менеджмент. «Тинькофф» обещает обновлять программу каждый год. В её формировании примут участие крупные российские работодатели и «известные на международном уровне специалисты академического мира». По окончании обучения студенты получат диплом государственного образца по направлению «Математика и компьютерные науки» (02.03.01). Вскоре «Тинькофф» разработает образовательные программы и по другим сферам, включая химию, биологию и естественные науки. Программа бакалавриата стартует в сентябре 2024 года. В первый набор войдут 500 студентов и 55 преподавателей. В сентябре 2023. года запустится магистерская программа «Академия Data Science», которая рассчитана на два года обучения. Стоимость обучения составит от 70 000 рублей в месяц. Студентам предложат гранты или кредит со ставкой 3% годовых и ежемесячным платежом до 3000 рублей в месяц. Обучение будет происходить в Москве. Но «Тинькофф» обещает открыть филиалы «Центрального университета» в других городах России в течение нескольких лет. А до 2026 года компания построит общежитие, которое вместит до 5000 студентов. \\n''']\n",
    "candidates = ['''Российская компания «Тинькофф» запускает частный университет со специализацией на математике и компьютерных науках. Программа обучения стартует в сентябре 2024 года, а магистерская программа «Академия Data Science» начнется в июне 2023 года, сообщает корреспондент Русской службы Би-би-си Ольга Яресько. Это уже вторая часть проекта компании, которая будет работать в России в течение нескольких лет. Что будет с программой обучения.   . . В bbc.co.uk ..  Эти и інші - в bbc .com  , . BBC News  ( bbcrussian.com. ) . \"Тинькоff , \"Тинкофф\", а уже в этом году, когда уже можно будет понять, как будет развиваться этот университет, и почему в России не хватает студентов, которые будут участвовать в программе обучения в ближайшие годы и какие будут новые образовательные программы для студентов в следующем году, рассказывает корреспондент ВВС Украина , что будет на пути к этому пути? bbcuzbek.com рассказывает о том, как будут развиваться эти и другие сферы обучения, о которых рассказывает Русская служба Би-Би-Си , в том числе и в России, где будет обучение и на каких условиях будут работать российские студенты, которым будет заниматься предпринимательство и что может быть связано с этим опытом? Вот уже несколько дней, кто будет изучать образовательную программу и зачем будет платить за обучение в России? - об этом сообщили в пресс-службе компании. Вот несколько самых интересных научных новостей о программе компании и бизнесе в российской экономике, которую будет проводить компания, пытаясь получить возможность получить диплом государственного образца в 2024 году, чтобы повысить эффективность образовательной системы и не только в вузах, но именно - о перспективах российского университета, который начнет выпускать в Москве и Санкт-Петербурге, куда они начнут работать уже через несколько лет, сколько будет стоить для них и чем будет учиться в России. Чем заняты студенты - это и самые перспективные и интересные новости о будущих студентах и финансовых возможностях и перспективах, если они не будут заняты в этой сфере, как выяснил корреспондент BBC Capital , посвященные этому вопросу, может стать одним из самых популярных в мире. bbc Русской православной церкви, считает корреспондент Би-си , какие перспективы имеет российская компания, которой уже занимаются образовательными программами и программами, которыми будут заниматься студенты в одной из крупнейших российских университетов, которых ожидается уже сейчас, - чтобы получить деньги в образовательных программах, оказались в одном из них, например, в Петербурге , некоторые из которых, по ее словам, будет запущена новая программа обучения .''']\n",
    "\n",
    "scorer = score.BleurtScorer(checkpoint)\n",
    "scores = scorer.score(references=references, candidates=candidates)\n",
    "assert isinstance(scores, list) and len(scores) == 1\n",
    "print(scores)"
   ]
  },
  {
   "cell_type": "code",
   "execution_count": 34,
   "id": "6d95bef1",
   "metadata": {},
   "outputs": [],
   "source": [
    "from nltk.translate import meteor_score\n",
    "from nltk.tokenize import word_tokenize"
   ]
  },
  {
   "cell_type": "code",
   "execution_count": 51,
   "id": "553f22a1",
   "metadata": {},
   "outputs": [],
   "source": [
    "tokenized_summary = word_tokenize(summary, language=\"russian\")"
   ]
  },
  {
   "cell_type": "code",
   "execution_count": 52,
   "id": "75d64163",
   "metadata": {},
   "outputs": [],
   "source": [
    "tokenized_articles = word_tokenize(base_articles[0])"
   ]
  },
  {
   "cell_type": "code",
   "execution_count": 43,
   "id": "24407385",
   "metadata": {},
   "outputs": [
    {
     "data": {
      "text/plain": [
       "0.2314"
      ]
     },
     "execution_count": 43,
     "metadata": {},
     "output_type": "execute_result"
    }
   ],
   "source": [
    "round(meteor_score.meteor_score([tokenized_articles], tokenized_summary), 4)"
   ]
  },
  {
   "cell_type": "code",
   "execution_count": 44,
   "id": "0fa3321e",
   "metadata": {},
   "outputs": [],
   "source": [
    "def token_articles(base_articles):\n",
    "    tokenized_articles = []\n",
    "    for i in range(len(base_articles)):\n",
    "        tokenized_articles.append(word_tokenize(base_articles[i]))\n",
    "    return tokenized_articles"
   ]
  },
  {
   "cell_type": "code",
   "execution_count": 47,
   "id": "cf3e699a",
   "metadata": {},
   "outputs": [],
   "source": [
    "tokenized_articles = token_articles(base_articles)"
   ]
  },
  {
   "cell_type": "code",
   "execution_count": 50,
   "id": "32097811",
   "metadata": {},
   "outputs": [
    {
     "data": {
      "text/plain": [
       "0.2356"
      ]
     },
     "execution_count": 50,
     "metadata": {},
     "output_type": "execute_result"
    }
   ],
   "source": [
    "round(meteor_score.meteor_score(tokenized_articles, tokenized_summary), 4)"
   ]
  },
  {
   "cell_type": "code",
   "execution_count": null,
   "id": "a254151a",
   "metadata": {},
   "outputs": [],
   "source": []
  }
 ],
 "metadata": {
  "kernelspec": {
   "display_name": "Python 3 (ipykernel)",
   "language": "python",
   "name": "python3"
  },
  "language_info": {
   "codemirror_mode": {
    "name": "ipython",
    "version": 3
   },
   "file_extension": ".py",
   "mimetype": "text/x-python",
   "name": "python",
   "nbconvert_exporter": "python",
   "pygments_lexer": "ipython3",
   "version": "3.10.9"
  }
 },
 "nbformat": 4,
 "nbformat_minor": 5
}
